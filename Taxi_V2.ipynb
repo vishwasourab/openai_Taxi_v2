{
  "nbformat": 4,
  "nbformat_minor": 0,
  "metadata": {
    "colab": {
      "name": "Taxi_V2.ipynb",
      "version": "0.3.2",
      "provenance": [],
      "collapsed_sections": []
    },
    "kernelspec": {
      "name": "python3",
      "display_name": "Python 3"
    },
    "accelerator": "GPU"
  },
  "cells": [
    {
      "metadata": {
        "id": "OXpf45BRKr4c",
        "colab_type": "code",
        "colab": {
          "base_uri": "https://localhost:8080/",
          "height": 394
        },
        "outputId": "f2f64bab-64c6-414b-c774-e689b660ea4e"
      },
      "cell_type": "code",
      "source": [
        "#!pip install gym"
      ],
      "execution_count": 2,
      "outputs": [
        {
          "output_type": "stream",
          "text": [
            "Collecting gym\n",
            "\u001b[?25l  Downloading https://files.pythonhosted.org/packages/c3/44/3a63e8b87f642db49ac81239620e68df8cfae223dcfda4f8508aec88d204/gym-0.10.8.tar.gz (1.5MB)\n",
            "\u001b[K    100% |████████████████████████████████| 1.5MB 7.5MB/s \n",
            "\u001b[?25hRequirement already satisfied: scipy in /usr/local/lib/python3.6/dist-packages (from gym) (0.19.1)\n",
            "Requirement already satisfied: numpy>=1.10.4 in /usr/local/lib/python3.6/dist-packages (from gym) (1.14.6)\n",
            "Requirement already satisfied: requests>=2.0 in /usr/local/lib/python3.6/dist-packages (from gym) (2.18.4)\n",
            "Requirement already satisfied: six in /usr/local/lib/python3.6/dist-packages (from gym) (1.11.0)\n",
            "Collecting pyglet>=1.2.0 (from gym)\n",
            "\u001b[?25l  Downloading https://files.pythonhosted.org/packages/1c/fc/dad5eaaab68f0c21e2f906a94ddb98175662cc5a654eee404d59554ce0fa/pyglet-1.3.2-py2.py3-none-any.whl (1.0MB)\n",
            "\u001b[K    100% |████████████████████████████████| 1.0MB 9.3MB/s \n",
            "\u001b[?25hRequirement already satisfied: chardet<3.1.0,>=3.0.2 in /usr/local/lib/python3.6/dist-packages (from requests>=2.0->gym) (3.0.4)\n",
            "Requirement already satisfied: urllib3<1.23,>=1.21.1 in /usr/local/lib/python3.6/dist-packages (from requests>=2.0->gym) (1.22)\n",
            "Requirement already satisfied: certifi>=2017.4.17 in /usr/local/lib/python3.6/dist-packages (from requests>=2.0->gym) (2018.10.15)\n",
            "Requirement already satisfied: idna<2.7,>=2.5 in /usr/local/lib/python3.6/dist-packages (from requests>=2.0->gym) (2.6)\n",
            "Requirement already satisfied: future in /usr/local/lib/python3.6/dist-packages (from pyglet>=1.2.0->gym) (0.16.0)\n",
            "Building wheels for collected packages: gym\n",
            "  Running setup.py bdist_wheel for gym ... \u001b[?25l-\b \b\\\b \b|\b \b/\b \bdone\n",
            "\u001b[?25h  Stored in directory: /root/.cache/pip/wheels/ea/ec/dd/33bcc8801d345f0b640fced8a0864a7c8474828564bc5ccf70\n",
            "Successfully built gym\n",
            "Installing collected packages: pyglet, gym\n",
            "Successfully installed gym-0.10.8 pyglet-1.3.2\n"
          ],
          "name": "stdout"
        }
      ]
    },
    {
      "metadata": {
        "id": "L66m3NY8NiYf",
        "colab_type": "code",
        "colab": {}
      },
      "cell_type": "code",
      "source": [
        "import numpy as np\n",
        "from collections import defaultdict\n",
        "import gym, math, sys\n",
        "from collections import deque"
      ],
      "execution_count": 0,
      "outputs": []
    },
    {
      "metadata": {
        "id": "QP2vv3PlLDzV",
        "colab_type": "code",
        "colab": {}
      },
      "cell_type": "code",
      "source": [
        "class Agent:\n",
        "\n",
        "    def __init__(self, nA=6):\n",
        "        \"\"\" Initialize agent.\n",
        "\n",
        "        Params\n",
        "        ======\n",
        "        - nA: number of actions available to the agent\n",
        "        \"\"\"\n",
        "        self.nA = 6\n",
        "        self.Q = defaultdict(lambda: np.zeros(self.nA))\n",
        "        self.alpha=0.07\n",
        "        self.gamma=0.8\n",
        "\n",
        "    def select_action(self, state):\n",
        "        \"\"\" Given the state, select an action.\n",
        "\n",
        "        Params\n",
        "        ======\n",
        "        - state: the current state of the environment\n",
        "\n",
        "        Returns\n",
        "        =======\n",
        "        - action: an integer, compatible with the task's action space\n",
        "        \"\"\"\n",
        "        return np.argmax(self.Q[state])\n",
        "\n",
        "    def step(self, state, action, reward, next_state, done):\n",
        "        \"\"\" Update the agent's knowledge, using the most recently sampled tuple.\n",
        "\n",
        "        Params\n",
        "        ======\n",
        "        - state: the previous state of the environment\n",
        "        - action: the agent's previous choice of action\n",
        "        - reward: last reward received\n",
        "        - next_state: the current state of the environment\n",
        "        - done: whether the episode is complete (True or False)\n",
        "        \"\"\"\n",
        "        self.Q[state][action]+= self.alpha * (reward+ (self.gamma * np.max(self.Q[next_state]) - self.Q[state][action] ))"
      ],
      "execution_count": 0,
      "outputs": []
    },
    {
      "metadata": {
        "id": "YyRy9pIgLXUT",
        "colab_type": "code",
        "colab": {}
      },
      "cell_type": "code",
      "source": [
        "def interact(env, agent, num_episodes=20000, window=100):\n",
        "    \"\"\" Monitor agent's performance.\n",
        "    \n",
        "    Params\n",
        "    ======\n",
        "    - env: instance of OpenAI Gym's Taxi-v1 environment\n",
        "    - agent: instance of class Agent (see Agent.py for details)\n",
        "    - num_episodes: number of episodes of agent-environment interaction\n",
        "    - window: number of episodes to consider when calculating average rewards\n",
        "\n",
        "    Returns\n",
        "    =======\n",
        "    - avg_rewards: deque containing average rewards\n",
        "    - best_avg_reward: largest value in the avg_rewards deque\n",
        "    \"\"\"\n",
        "    # initialize average rewards\n",
        "    avg_rewards = deque(maxlen=num_episodes)\n",
        "    # initialize best average reward\n",
        "    best_avg_reward = -math.inf\n",
        "    # initialize monitor for most recent rewards\n",
        "    samp_rewards = deque(maxlen=window)\n",
        "    # for each episode\n",
        "    for i_episode in range(1, num_episodes+1):\n",
        "        # begin the episode\n",
        "        state = env.reset()\n",
        "        # initialize the sampled reward\n",
        "        samp_reward = 0\n",
        "        while True:\n",
        "            # agent selects an action\n",
        "            action = agent.select_action(state)\n",
        "            # agent performs the selected action\n",
        "            next_state, reward, done, _ = env.step(action)\n",
        "            # agent performs internal updates based on sampled experience\n",
        "            agent.step(state, action, reward, next_state, done)\n",
        "            # update the sampled reward\n",
        "            samp_reward += reward\n",
        "            # update the state (s <- s') to next time step\n",
        "            state = next_state\n",
        "            if done:\n",
        "                # save final sampled reward\n",
        "                samp_rewards.append(samp_reward)\n",
        "                break\n",
        "        if (i_episode >= 100):\n",
        "            # get average reward from last 100 episodes\n",
        "            avg_reward = np.mean(samp_rewards)\n",
        "            # append to deque\n",
        "            avg_rewards.append(avg_reward)\n",
        "            # update best average reward\n",
        "            if avg_reward > best_avg_reward:\n",
        "                best_avg_reward = avg_reward\n",
        "        # monitor progress\n",
        "        print(\"\\rEpisode {}/{} || Best average reward {}\".format(i_episode, num_episodes, best_avg_reward), end=\"\")\n",
        "        sys.stdout.flush()\n",
        "        # check if task is solved (according to OpenAI Gym)\n",
        "        if best_avg_reward >= 9.7:\n",
        "            print('\\nEnvironment solved in {} episodes.'.format(i_episode), end=\"\")\n",
        "            break\n",
        "        if i_episode == num_episodes: print('\\n')\n",
        "    return avg_rewards, best_avg_reward"
      ],
      "execution_count": 0,
      "outputs": []
    },
    {
      "metadata": {
        "id": "rjTszxLvLvM6",
        "colab_type": "code",
        "colab": {
          "base_uri": "https://localhost:8080/",
          "height": 51
        },
        "outputId": "e7e03194-cec1-4cfa-cda8-5757d449b705"
      },
      "cell_type": "code",
      "source": [
        "env = gym.make('Taxi-v2')\n",
        "agent = Agent()\n",
        "avg_rewards, best_avg_reward = interact(env, agent)"
      ],
      "execution_count": 9,
      "outputs": [
        {
          "output_type": "stream",
          "text": [
            "Episode 20000/20000 || Best average reward 9.23\n",
            "\n"
          ],
          "name": "stdout"
        }
      ]
    },
    {
      "metadata": {
        "id": "82F256Y9LzY4",
        "colab_type": "code",
        "colab": {
          "base_uri": "https://localhost:8080/",
          "height": 592
        },
        "outputId": "93cf52d2-96f1-4518-85f6-cff3da213762"
      },
      "cell_type": "code",
      "source": [
        "import matplotlib.pyplot as plt\n",
        "%matplotlib inline\n",
        "plt.figure(figsize=(20, 10))\n",
        "plt.plot(avg_rewards)\n",
        "plt.show()"
      ],
      "execution_count": 10,
      "outputs": [
        {
          "output_type": "display_data",
          "data": {
            "image/png": "[encoded data removed]",
            "text/plain": [
              "<matplotlib.figure.Figure at 0x7fe760382f28>"
            ]
          },
          "metadata": {
            "tags": []
          }
        }
      ]
    },
    {
      "metadata": {
        "id": "rZs2rJHhMBS2",
        "colab_type": "code",
        "colab": {}
      },
      "cell_type": "code",
      "source": [
        ""
      ],
      "execution_count": 0,
      "outputs": []
    }
  ]
}